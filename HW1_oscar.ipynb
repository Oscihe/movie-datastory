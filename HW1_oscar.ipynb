{
 "cells": [
  {
   "cell_type": "markdown",
   "id": "a33e25a2-463a-47b7-9ece-d87800beee03",
   "metadata": {},
   "source": [
    "# Homework 1: A sinister homework\n",
    "\n",
    "By the end of this homework, we expect you to be able to:\n",
    "\n",
    "1. Load data and handle data using pandas;\n",
    "2. Navigate the documentation of Python packages by yourself;\n",
    "3. Filter and tidy up noisy real-world datasets;\n",
    "4. Aggregate your data in different (and hopefully helpful) ways;\n",
    "5. Create meaningful visualizations to analyze the data;\n",
    "6. Communicate your findings in a clear and concise manner\n",
    "\n",
    "\n",
    "---\n",
    "\n",
    "## Important Dates\n",
    "- Homework release: Fri 13 Oct 2023\n",
    "- **Homework due:** Fri 27 Oct 2023, 23:59\n",
    "- Grade release: Mon 06 Nov 2023\n",
    "\n",
    "---\n",
    "\n",
    "## Some rules\n",
    "1. You are allowed to use any built-in Python library that comes with Anaconda. If you want to use an external library, you may do so, but must justify your choice.\n",
    "\n",
    "2. Make sure you use the `data` folder provided in the repository in read-only mode. (Or alternatively, be sure you don’t change any of the files.)\n",
    "\n",
    "3. Be sure to provide a concise textual description of your thought process, the assumptions you made, the solution you implemented, and explanations for your answers. A notebook that only has code cells will not suffice.\n",
    "\n",
    "4. For questions containing the **/Discuss:/** prefix, answer not with code, but with a textual explanation **(in markdown)**.\n",
    "\n",
    "5. Back up any hypotheses and claims with data, since this is an important aspect of the course.\n",
    "\n",
    "6. Please write all your comments in **English**, and use meaningful variable names in your code. Your repo should have a single notebook (plus the required data files) in the master/main branch. **If there are multiple notebooks present, we will not grade anything.**\n",
    "\n",
    "7. We will **not run your notebook for you!** Rather, we will grade it as is, which means that only the results contained in your evaluated code cells will be considered, and we will not see the results in unevaluated code cells. Thus, be sure to hand in a **fully-run and evaluated notebook**. In order to check whether everything looks as intended, you can check the rendered notebook on the GitHub website once you have pushed your solution there.\n",
    "\n",
    "8. In continuation to the previous point, interactive plots, such as those generated using the `plotly` package, should be strictly avoided!\n",
    "\n",
    "9. Make sure to print results and/or dataframes that confirm you have properly addressed the task.\n",
    "\n",
    "\n",
    "---\n",
    "\n",
    "##  Context\n",
    "\n",
    "Congratulations! You have just been hired as a data scientist at \"The ByteBlasters\", EPFL’s amateur baseball club. The team's manager, Mr. Russo, an eccentric millionaire with an innovative plan to dominate the Swiss baseball league, believes hiring left-handed pitchers (the people who throw the ball) will likely boost the team's performance. Yet, he is concerned about money, as he heard left-handed pitchers have historically earned more!\n",
    "\n",
    "He tasked you to investigate this \"sinister\" issue and gave you some openly available data on the birthplace of this beautiful, dynamic sport --- the US.\n",
    "\n",
    "**About the homework.** This homework consists of four tasks. In Task 0, you will familiarize yourself with the rules of baseball. In Task 1, you will process the data, getting it ready for analysis. In Task 2, you will analyze the data to answer Mr. Russo’s question. Lastly, in Task 3, you will conduct additional analyses that consider the longitudinal nature of the data."
   ]
  },
  {
   "cell_type": "code",
   "execution_count": 4,
   "id": "20692bb8-890b-4b21-a73b-5d9587129cde",
   "metadata": {
    "tags": []
   },
   "outputs": [],
   "source": [
    "import pandas as pd\n",
    "import numpy as np\n",
    "import matplotlib.pyplot as plt\n",
    "from IPython.display import YouTubeVideo\n"
   ]
  },
  {
   "cell_type": "markdown",
   "id": "daa9a3d0",
   "metadata": {},
   "source": [
    "# Task 0 (Ungraded): Baseball 101\n",
    "\n",
    "**0.1 —** Familiarize yourself with the data; we won't explain the data in-depth in this notebook. Instead, you should take your time to read the readme.txt file inside the data folder. Note that this data is available on [GitHub](https://github.com/chadwickbureau/baseballdatabank).\n",
    "\n",
    "**0.2 —** Familiarize yourself with basic baseball rules. We will explain everything you need to know, but it will be helpful to get a basic understanding of it. Watching the video below should be enough! (Also available [here](https://www.youtube.com/watch?v=WMA8L5OpuDY).)\n",
    "\n",
    "A couple of useful things to remember:\n",
    "- **Pitchers** (try to) throw the ball\n",
    "- **Batters** (try to) hit the ball with the bat\n",
    "- **Catchers** (try to) catch the ball.\n"
   ]
  },
  {
   "cell_type": "code",
   "execution_count": 2,
   "id": "0e7c1656",
   "metadata": {},
   "outputs": [
    {
     "data": {
      "image/jpeg": "[encoded data removed]",
      "text/html": [
       "\n",
       "        <iframe\n",
       "            width=\"800\"\n",
       "            height=\"300\"\n",
       "            src=\"https://www.youtube.com/embed/WMA8L5OpuDY\"\n",
       "            frameborder=\"0\"\n",
       "            allowfullscreen\n",
       "            \n",
       "        ></iframe>\n",
       "        "
      ],
      "text/plain": [
       "<IPython.lib.display.YouTubeVideo at 0x2174642be80>"
      ]
     },
     "execution_count": 2,
     "metadata": {},
     "output_type": "execute_result"
    }
   ],
   "source": [
    "YouTubeVideo('WMA8L5OpuDY', width=800, height=300)"
   ]
  },
  {
   "cell_type": "markdown",
   "id": "a945475b",
   "metadata": {},
   "source": [
    "---\n",
    "\n",
    "# Task 1 (16 pts): Get to Know Your Data\n",
    "\n",
    "As a good data scientist, you first load the data and perform some small sanity checks on it.\n",
    "\n",
    "1. You are expected to continuously alter your dataframe as you complete the tasks. E.g., if you are asked to filter the data in a specific task, continue using the filtered dataset in the subsequent tasks.\n",
    "2. When we tell you to \"print the dataframe,\" make sure you print it in a way that shows the total number of rows and columns in it (`display(df)` should suffice).\n",
    "\n",
    "---"
   ]
  },
  {
   "cell_type": "markdown",
   "id": "d7c6482a",
   "metadata": {},
   "source": [
    "**1.1 —** Load the `People`, `Salaries`, and `Pitching` dataframes. Then:\n",
    "- Filter the `Salaries`, and `Pitching` dataframes to remove all data after the year 2010.\n",
    "- For the `Salaries` dataframe drop all duplicate salaries for players in a given year. In other words, if a player (uniquely identified by `PlayerID`) has multiple salaries in a year (`yearID`), keep the first occurence in the dataframe and drop the remaining.\n",
    "- Calculate the size of each dataframe. \n",
    "\n",
    "Make [deep copies](https://pandas.pydata.org/docs/reference/api/pandas.DataFrame.copy.html) of all dataframes as you filter them.\n",
    "\n",
    "Hints:\n",
    "- 2007 should be included in the data.\n",
    "- 2010 should be included in the data.\n",
    "- 2011 should not be included in the data."
   ]
  },
  {
   "cell_type": "code",
   "execution_count": 5,
   "id": "0d5087c4",
   "metadata": {},
   "outputs": [
    {
     "name": "stdout",
     "output_type": "stream",
     "text": [
      "20676\n",
      "21351\n",
      "40433\n"
     ]
    }
   ],
   "source": [
    "#1.1\n",
    "#load dataframes\n",
    "People_df = pd.read_csv('People.csv')\n",
    "Salaries_df = pd.read_csv('Salaries.csv')\n",
    "Pitching_df = pd.read_csv('Pitching.csv')\n",
    "#removing data after 2010 for the salaries and pitching dataframes\n",
    "Salaries_df1 =  Salaries_df.drop(Salaries_df[Salaries_df.yearID > 2010].index)\n",
    "Pitching_df1 = Pitching_df.drop(Pitching_df[Pitching_df.yearID > 2010].index)\n",
    "#droping duplicates of playerID for a given year\n",
    "Salaries_df1.drop_duplicates(subset=['playerID', 'yearID'], keep='first', inplace=True)\n",
    "#sizes of the dataframes\n",
    "print(len(People_df))\n",
    "print(len(Salaries_df1))\n",
    "print(len(Pitching_df1))"
   ]
  },
  {
   "cell_type": "code",
   "execution_count": 11,
   "id": "8181e822",
   "metadata": {},
   "outputs": [
    {
     "data": {
      "text/html": [
       "<div>\n",
       "<style scoped>\n",
       "    .dataframe tbody tr th:only-of-type {\n",
       "        vertical-align: middle;\n",
       "    }\n",
       "\n",
       "    .dataframe tbody tr th {\n",
       "        vertical-align: top;\n",
       "    }\n",
       "\n",
       "    .dataframe thead th {\n",
       "        text-align: right;\n",
       "    }\n",
       "</style>\n",
       "<table border=\"1\" class=\"dataframe\">\n",
       "  <thead>\n",
       "    <tr style=\"text-align: right;\">\n",
       "      <th></th>\n",
       "      <th>playerID</th>\n",
       "      <th>birthYear</th>\n",
       "      <th>birthMonth</th>\n",
       "      <th>birthDay</th>\n",
       "      <th>birthCountry</th>\n",
       "      <th>birthState</th>\n",
       "      <th>birthCity</th>\n",
       "      <th>deathYear</th>\n",
       "      <th>deathMonth</th>\n",
       "      <th>deathDay</th>\n",
       "      <th>...</th>\n",
       "      <th>nameLast</th>\n",
       "      <th>nameGiven</th>\n",
       "      <th>weight</th>\n",
       "      <th>height</th>\n",
       "      <th>bats</th>\n",
       "      <th>throws</th>\n",
       "      <th>debut</th>\n",
       "      <th>finalGame</th>\n",
       "      <th>retroID</th>\n",
       "      <th>bbrefID</th>\n",
       "    </tr>\n",
       "  </thead>\n",
       "  <tbody>\n",
       "    <tr>\n",
       "      <th>0</th>\n",
       "      <td>aardsda01</td>\n",
       "      <td>1981.0</td>\n",
       "      <td>12.0</td>\n",
       "      <td>27.0</td>\n",
       "      <td>USA</td>\n",
       "      <td>CO</td>\n",
       "      <td>Denver</td>\n",
       "      <td>NaN</td>\n",
       "      <td>NaN</td>\n",
       "      <td>NaN</td>\n",
       "      <td>...</td>\n",
       "      <td>Aardsma</td>\n",
       "      <td>David Allan</td>\n",
       "      <td>215.0</td>\n",
       "      <td>75.0</td>\n",
       "      <td>R</td>\n",
       "      <td>R</td>\n",
       "      <td>2004-04-06</td>\n",
       "      <td>2015-08-23</td>\n",
       "      <td>aardd001</td>\n",
       "      <td>aardsda01</td>\n",
       "    </tr>\n",
       "    <tr>\n",
       "      <th>1</th>\n",
       "      <td>aaronha01</td>\n",
       "      <td>1934.0</td>\n",
       "      <td>2.0</td>\n",
       "      <td>5.0</td>\n",
       "      <td>USA</td>\n",
       "      <td>AL</td>\n",
       "      <td>Mobile</td>\n",
       "      <td>2021.0</td>\n",
       "      <td>1.0</td>\n",
       "      <td>22.0</td>\n",
       "      <td>...</td>\n",
       "      <td>Aaron</td>\n",
       "      <td>Henry Louis</td>\n",
       "      <td>180.0</td>\n",
       "      <td>72.0</td>\n",
       "      <td>R</td>\n",
       "      <td>R</td>\n",
       "      <td>1954-04-13</td>\n",
       "      <td>1976-10-03</td>\n",
       "      <td>aaroh101</td>\n",
       "      <td>aaronha01</td>\n",
       "    </tr>\n",
       "    <tr>\n",
       "      <th>2</th>\n",
       "      <td>aaronto01</td>\n",
       "      <td>1939.0</td>\n",
       "      <td>8.0</td>\n",
       "      <td>5.0</td>\n",
       "      <td>USA</td>\n",
       "      <td>AL</td>\n",
       "      <td>Mobile</td>\n",
       "      <td>1984.0</td>\n",
       "      <td>8.0</td>\n",
       "      <td>16.0</td>\n",
       "      <td>...</td>\n",
       "      <td>Aaron</td>\n",
       "      <td>Tommie Lee</td>\n",
       "      <td>190.0</td>\n",
       "      <td>75.0</td>\n",
       "      <td>R</td>\n",
       "      <td>R</td>\n",
       "      <td>1962-04-10</td>\n",
       "      <td>1971-09-26</td>\n",
       "      <td>aarot101</td>\n",
       "      <td>aaronto01</td>\n",
       "    </tr>\n",
       "    <tr>\n",
       "      <th>3</th>\n",
       "      <td>aasedo01</td>\n",
       "      <td>1954.0</td>\n",
       "      <td>9.0</td>\n",
       "      <td>8.0</td>\n",
       "      <td>USA</td>\n",
       "      <td>CA</td>\n",
       "      <td>Orange</td>\n",
       "      <td>NaN</td>\n",
       "      <td>NaN</td>\n",
       "      <td>NaN</td>\n",
       "      <td>...</td>\n",
       "      <td>Aase</td>\n",
       "      <td>Donald William</td>\n",
       "      <td>190.0</td>\n",
       "      <td>75.0</td>\n",
       "      <td>R</td>\n",
       "      <td>R</td>\n",
       "      <td>1977-07-26</td>\n",
       "      <td>1990-10-03</td>\n",
       "      <td>aased001</td>\n",
       "      <td>aasedo01</td>\n",
       "    </tr>\n",
       "    <tr>\n",
       "      <th>4</th>\n",
       "      <td>abadan01</td>\n",
       "      <td>1972.0</td>\n",
       "      <td>8.0</td>\n",
       "      <td>25.0</td>\n",
       "      <td>USA</td>\n",
       "      <td>FL</td>\n",
       "      <td>Palm Beach</td>\n",
       "      <td>NaN</td>\n",
       "      <td>NaN</td>\n",
       "      <td>NaN</td>\n",
       "      <td>...</td>\n",
       "      <td>Abad</td>\n",
       "      <td>Fausto Andres</td>\n",
       "      <td>184.0</td>\n",
       "      <td>73.0</td>\n",
       "      <td>L</td>\n",
       "      <td>L</td>\n",
       "      <td>2001-09-10</td>\n",
       "      <td>2006-04-13</td>\n",
       "      <td>abada001</td>\n",
       "      <td>abadan01</td>\n",
       "    </tr>\n",
       "  </tbody>\n",
       "</table>\n",
       "<p>5 rows × 24 columns</p>\n",
       "</div>"
      ],
      "text/plain": [
       "    playerID  birthYear  birthMonth  birthDay birthCountry birthState  \\\n",
       "0  aardsda01     1981.0        12.0      27.0          USA         CO   \n",
       "1  aaronha01     1934.0         2.0       5.0          USA         AL   \n",
       "2  aaronto01     1939.0         8.0       5.0          USA         AL   \n",
       "3   aasedo01     1954.0         9.0       8.0          USA         CA   \n",
       "4   abadan01     1972.0         8.0      25.0          USA         FL   \n",
       "\n",
       "    birthCity  deathYear  deathMonth  deathDay  ... nameLast       nameGiven  \\\n",
       "0      Denver        NaN         NaN       NaN  ...  Aardsma     David Allan   \n",
       "1      Mobile     2021.0         1.0      22.0  ...    Aaron     Henry Louis   \n",
       "2      Mobile     1984.0         8.0      16.0  ...    Aaron      Tommie Lee   \n",
       "3      Orange        NaN         NaN       NaN  ...     Aase  Donald William   \n",
       "4  Palm Beach        NaN         NaN       NaN  ...     Abad   Fausto Andres   \n",
       "\n",
       "  weight height bats throws       debut   finalGame   retroID    bbrefID  \n",
       "0  215.0   75.0    R      R  2004-04-06  2015-08-23  aardd001  aardsda01  \n",
       "1  180.0   72.0    R      R  1954-04-13  1976-10-03  aaroh101  aaronha01  \n",
       "2  190.0   75.0    R      R  1962-04-10  1971-09-26  aarot101  aaronto01  \n",
       "3  190.0   75.0    R      R  1977-07-26  1990-10-03  aased001   aasedo01  \n",
       "4  184.0   73.0    L      L  2001-09-10  2006-04-13  abada001   abadan01  \n",
       "\n",
       "[5 rows x 24 columns]"
      ]
     },
     "execution_count": 11,
     "metadata": {},
     "output_type": "execute_result"
    }
   ],
   "source": [
    "People_df.head(5)"
   ]
  },
  {
   "cell_type": "markdown",
   "id": "52aadc50",
   "metadata": {},
   "source": [
    "**1.2 —** The `throws` column in the `People` dataframe indicates, for each player, whether they throw with the left (\"L\") or right hand (\"R\"). Check what values are in the column and drop rows containing any value that is not \"L\" or \"R,\" again, make a deep copy when you filter the dataframe.\n",
    "\n",
    "Hint: Remember NaNs!"
   ]
  },
  {
   "cell_type": "code",
   "execution_count": 32,
   "id": "2b3ab895",
   "metadata": {},
   "outputs": [
    {
     "name": "stdout",
     "output_type": "stream",
     "text": [
      "['R' 'L' nan 'S']\n",
      "['R' 'L' nan]\n"
     ]
    }
   ],
   "source": [
    "#1.2\n",
    "print(People_df['throws'].unique())\n",
    "valid_values = ['L', 'R']\n",
    "People_df1 = People_df[People_df['throws'].isin(valid_values) | People_df['throws'].isna()]\n",
    "print(People_df1['throws'].unique())"
   ]
  },
  {
   "cell_type": "markdown",
   "id": "c0b13ccc",
   "metadata": {},
   "source": [
    "**1.3 —** Merge the `People` dataframe with the `Pitching` dataframe. Your merge should populate the pitching data with statistics about the players. Print the resulting dataframe."
   ]
  },
  {
   "cell_type": "code",
   "execution_count": 33,
   "id": "dbf59301",
   "metadata": {},
   "outputs": [
    {
     "data": {
      "text/html": [
       "<div>\n",
       "<style scoped>\n",
       "    .dataframe tbody tr th:only-of-type {\n",
       "        vertical-align: middle;\n",
       "    }\n",
       "\n",
       "    .dataframe tbody tr th {\n",
       "        vertical-align: top;\n",
       "    }\n",
       "\n",
       "    .dataframe thead th {\n",
       "        text-align: right;\n",
       "    }\n",
       "</style>\n",
       "<table border=\"1\" class=\"dataframe\">\n",
       "  <thead>\n",
       "    <tr style=\"text-align: right;\">\n",
       "      <th></th>\n",
       "      <th>playerID</th>\n",
       "      <th>yearID</th>\n",
       "      <th>stint</th>\n",
       "      <th>teamID</th>\n",
       "      <th>lgID</th>\n",
       "      <th>W</th>\n",
       "      <th>L</th>\n",
       "      <th>G</th>\n",
       "      <th>GS</th>\n",
       "      <th>CG</th>\n",
       "      <th>...</th>\n",
       "      <th>nameLast</th>\n",
       "      <th>nameGiven</th>\n",
       "      <th>weight</th>\n",
       "      <th>height</th>\n",
       "      <th>bats</th>\n",
       "      <th>throws</th>\n",
       "      <th>debut</th>\n",
       "      <th>finalGame</th>\n",
       "      <th>retroID</th>\n",
       "      <th>bbrefID</th>\n",
       "    </tr>\n",
       "  </thead>\n",
       "  <tbody>\n",
       "    <tr>\n",
       "      <th>0</th>\n",
       "      <td>bechtge01</td>\n",
       "      <td>1871</td>\n",
       "      <td>1</td>\n",
       "      <td>PH1</td>\n",
       "      <td>NaN</td>\n",
       "      <td>1</td>\n",
       "      <td>2</td>\n",
       "      <td>3</td>\n",
       "      <td>3</td>\n",
       "      <td>2</td>\n",
       "      <td>...</td>\n",
       "      <td>Bechtel</td>\n",
       "      <td>George W.</td>\n",
       "      <td>165.0</td>\n",
       "      <td>71.0</td>\n",
       "      <td>NaN</td>\n",
       "      <td>NaN</td>\n",
       "      <td>1871-05-20</td>\n",
       "      <td>1876-08-19</td>\n",
       "      <td>bechg101</td>\n",
       "      <td>bechtge01</td>\n",
       "    </tr>\n",
       "    <tr>\n",
       "      <th>1</th>\n",
       "      <td>bechtge01</td>\n",
       "      <td>1873</td>\n",
       "      <td>1</td>\n",
       "      <td>PH2</td>\n",
       "      <td>NaN</td>\n",
       "      <td>0</td>\n",
       "      <td>2</td>\n",
       "      <td>3</td>\n",
       "      <td>2</td>\n",
       "      <td>1</td>\n",
       "      <td>...</td>\n",
       "      <td>Bechtel</td>\n",
       "      <td>George W.</td>\n",
       "      <td>165.0</td>\n",
       "      <td>71.0</td>\n",
       "      <td>NaN</td>\n",
       "      <td>NaN</td>\n",
       "      <td>1871-05-20</td>\n",
       "      <td>1876-08-19</td>\n",
       "      <td>bechg101</td>\n",
       "      <td>bechtge01</td>\n",
       "    </tr>\n",
       "    <tr>\n",
       "      <th>2</th>\n",
       "      <td>bechtge01</td>\n",
       "      <td>1874</td>\n",
       "      <td>1</td>\n",
       "      <td>PH2</td>\n",
       "      <td>NaN</td>\n",
       "      <td>1</td>\n",
       "      <td>3</td>\n",
       "      <td>6</td>\n",
       "      <td>4</td>\n",
       "      <td>4</td>\n",
       "      <td>...</td>\n",
       "      <td>Bechtel</td>\n",
       "      <td>George W.</td>\n",
       "      <td>165.0</td>\n",
       "      <td>71.0</td>\n",
       "      <td>NaN</td>\n",
       "      <td>NaN</td>\n",
       "      <td>1871-05-20</td>\n",
       "      <td>1876-08-19</td>\n",
       "      <td>bechg101</td>\n",
       "      <td>bechtge01</td>\n",
       "    </tr>\n",
       "    <tr>\n",
       "      <th>3</th>\n",
       "      <td>bechtge01</td>\n",
       "      <td>1875</td>\n",
       "      <td>1</td>\n",
       "      <td>PH3</td>\n",
       "      <td>NaN</td>\n",
       "      <td>2</td>\n",
       "      <td>12</td>\n",
       "      <td>14</td>\n",
       "      <td>14</td>\n",
       "      <td>14</td>\n",
       "      <td>...</td>\n",
       "      <td>Bechtel</td>\n",
       "      <td>George W.</td>\n",
       "      <td>165.0</td>\n",
       "      <td>71.0</td>\n",
       "      <td>NaN</td>\n",
       "      <td>NaN</td>\n",
       "      <td>1871-05-20</td>\n",
       "      <td>1876-08-19</td>\n",
       "      <td>bechg101</td>\n",
       "      <td>bechtge01</td>\n",
       "    </tr>\n",
       "    <tr>\n",
       "      <th>4</th>\n",
       "      <td>bechtge01</td>\n",
       "      <td>1875</td>\n",
       "      <td>2</td>\n",
       "      <td>PH1</td>\n",
       "      <td>NaN</td>\n",
       "      <td>3</td>\n",
       "      <td>1</td>\n",
       "      <td>4</td>\n",
       "      <td>4</td>\n",
       "      <td>4</td>\n",
       "      <td>...</td>\n",
       "      <td>Bechtel</td>\n",
       "      <td>George W.</td>\n",
       "      <td>165.0</td>\n",
       "      <td>71.0</td>\n",
       "      <td>NaN</td>\n",
       "      <td>NaN</td>\n",
       "      <td>1871-05-20</td>\n",
       "      <td>1876-08-19</td>\n",
       "      <td>bechg101</td>\n",
       "      <td>bechtge01</td>\n",
       "    </tr>\n",
       "  </tbody>\n",
       "</table>\n",
       "<p>5 rows × 53 columns</p>\n",
       "</div>"
      ],
      "text/plain": [
       "    playerID  yearID  stint teamID lgID  W   L   G  GS  CG  ...  nameLast  \\\n",
       "0  bechtge01    1871      1    PH1  NaN  1   2   3   3   2  ...   Bechtel   \n",
       "1  bechtge01    1873      1    PH2  NaN  0   2   3   2   1  ...   Bechtel   \n",
       "2  bechtge01    1874      1    PH2  NaN  1   3   6   4   4  ...   Bechtel   \n",
       "3  bechtge01    1875      1    PH3  NaN  2  12  14  14  14  ...   Bechtel   \n",
       "4  bechtge01    1875      2    PH1  NaN  3   1   4   4   4  ...   Bechtel   \n",
       "\n",
       "   nameGiven  weight  height  bats  throws       debut   finalGame   retroID  \\\n",
       "0  George W.   165.0    71.0   NaN     NaN  1871-05-20  1876-08-19  bechg101   \n",
       "1  George W.   165.0    71.0   NaN     NaN  1871-05-20  1876-08-19  bechg101   \n",
       "2  George W.   165.0    71.0   NaN     NaN  1871-05-20  1876-08-19  bechg101   \n",
       "3  George W.   165.0    71.0   NaN     NaN  1871-05-20  1876-08-19  bechg101   \n",
       "4  George W.   165.0    71.0   NaN     NaN  1871-05-20  1876-08-19  bechg101   \n",
       "\n",
       "     bbrefID  \n",
       "0  bechtge01  \n",
       "1  bechtge01  \n",
       "2  bechtge01  \n",
       "3  bechtge01  \n",
       "4  bechtge01  \n",
       "\n",
       "[5 rows x 53 columns]"
      ]
     },
     "execution_count": 33,
     "metadata": {},
     "output_type": "execute_result"
    }
   ],
   "source": [
    "#1.3\n",
    "merged = Pitching_df1.merge(People_df1, how='inner', on='playerID')\n",
    "merged.head(5)"
   ]
  },
  {
   "cell_type": "markdown",
   "id": "cf6b613a",
   "metadata": {},
   "source": [
    "**1.4 —** You realize some of the data for the `throws` column is missing! Estimate the percentage of missing data points per year in that column, and show your estimates in a line plot. Additionally, print what percentage of the data was missing in 1892."
   ]
  },
  {
   "cell_type": "code",
   "execution_count": 35,
   "id": "12e6f902",
   "metadata": {},
   "outputs": [
    {
     "data": {
      "image/png": "[encoded data removed]",
      "text/plain": [
       "<Figure size 1000x600 with 1 Axes>"
      ]
     },
     "metadata": {},
     "output_type": "display_data"
    }
   ],
   "source": [
    "#1.4\n",
    "nan_counts = merged.groupby(merged['yearID'])['throws'].apply(lambda x: x.isna().sum()).reset_index()\n",
    "nan_counts.rename(columns={'throws': 'NaN_Count'}, inplace=True)\n",
    "plt.figure(figsize=(10, 6))\n",
    "plt.plot(nan_counts['yearID'], nan_counts['NaN_Count'], marker='o')\n",
    "plt.title('NaN Values Count Over the Years')\n",
    "plt.xlabel('Year')\n",
    "plt.ylabel('NaN Value Count')\n",
    "plt.grid()\n",
    "plt.show()"
   ]
  },
  {
   "cell_type": "markdown",
   "id": "96ede93d",
   "metadata": {},
   "source": [
    "**1.5 —** Filter the dataset you just merged (hereinafter `Pitching-People`) to just contain data from after 1920 (with 1920 included). Do the same with the `Salaries` dataset. Make deep copies of both dataframes as you filter them.\n",
    "\n"
   ]
  },
  {
   "cell_type": "markdown",
   "id": "27131c8e",
   "metadata": {},
   "source": [
    "**1.6 —**  Merge the `Pitching-People` dataframe with the `Salaries` dataframe. Your merge should populate the `Pitching-People` dataframe with statistics about the pitchers'salaries across the years. Note that the `Salaries` dataframe contains the salary **per year.** Print the resulting dataframe."
   ]
  },
  {
   "cell_type": "markdown",
   "id": "0555fd31",
   "metadata": {},
   "source": [
    "**1.7 —** You realize some of the data for the `salary` column is missing! Estimate the percentage of missing data points per year, and show your estimates in a line plot. Additionally, print what percentage of the data was missing in 2002.\n"
   ]
  },
  {
   "cell_type": "markdown",
   "id": "eca3d2cc",
   "metadata": {},
   "source": [
    "**1.8 —** Find and print the first and last year for which there exists any salary data. Filter the resulting, merged dataframe to include only data between these two dates. Again make sure you make a deep copy of the dataframe, and print the resulting dataframe."
   ]
  },
  {
   "cell_type": "markdown",
   "id": "b2352cb9",
   "metadata": {},
   "source": [
    "---\n",
    "\n",
    "# Task 2 (16 pts)\n",
    "\n",
    "Task 1, was a softball? Huh? For Task 2, you will use a dataset similar to what you obtained at the end of Task 1. This code loads it.\n"
   ]
  },
  {
   "cell_type": "code",
   "execution_count": null,
   "id": "11463fe3",
   "metadata": {},
   "outputs": [],
   "source": [
    "# PROVIDED CODE\n",
    "\n",
    "df = pd.read_csv(\"./data/dataset-task-2.csv\")\n",
    "df.head()"
   ]
  },
  {
   "cell_type": "markdown",
   "id": "25ff6e64",
   "metadata": {},
   "source": [
    "Some comments about this dataset:\n",
    "- This is a sample of the dataset obtained in Task 1. \n",
    "- Even if you  did everything correctly for Task 1, this dataframe would contain a different number of rows --- as it is a sample.\n",
    "- This prevent that mistakes made in Task 1 cascade into Tasks 2 and 3.\n",
    "\n",
    "\n",
    "With this data, you will proceed to investigate differences in the salaries and performance of left-handed and right-handed pitchers.\n",
    "\n",
    "---"
   ]
  },
  {
   "cell_type": "markdown",
   "id": "b8ecac1d",
   "metadata": {},
   "source": [
    "**2.1 —** Plot the Complementary cumulative distribution function (CCDF) of salary for left-handed and right-handed athletes. Consider data from all years."
   ]
  },
  {
   "cell_type": "markdown",
   "id": "d41cf3e9",
   "metadata": {},
   "source": [
    "**2.2 —** /Discuss:/ This plot has an issue which severely limits the amount of information one can draw from it. Describe the issue and propose a solution to address it."
   ]
  },
  {
   "cell_type": "markdown",
   "id": "c6cf047a",
   "metadata": {},
   "source": [
    "**2.3 —** Implement the solution proposed by yourself in the previous question."
   ]
  },
  {
   "cell_type": "markdown",
   "id": "9a6f5768",
   "metadata": {},
   "source": [
    "**2.4 —** /Discuss:/ Considering this second version of the plot, describe what the plot shows with regard to the distribution of salaries from left- and right-handed pitchers."
   ]
  },
  {
   "cell_type": "markdown",
   "id": "6042ffd7",
   "metadata": {},
   "source": [
    "**2.5—** Calculate the mean and the 95% confidence interval for the salary of left-handed and right-handed pitchers aggregating data across all years. Print the estimates. Additionally, present the estimates and the confidence intervals in a [point plot](https://seaborn.pydata.org/_images/pointplot_7_0.png). Calculate your confidence intervals using the standard error of the mean and ignoring missing values."
   ]
  },
  {
   "cell_type": "markdown",
   "id": "fb8e91fb",
   "metadata": {},
   "source": [
    "**2.6 —** /Discuss:/ Can you tell whether the difference between the two distributions is statistically significant (at the .05 level of significance) from the image? Why?"
   ]
  },
  {
   "cell_type": "markdown",
   "id": "3e317d60",
   "metadata": {},
   "source": [
    "**2.7 —** Perform a t-test test comparing the salaries of left-handed and right-handed pitchers at the .05 level of significance. Consider data from all years. /Discuss:/ Who earns more?"
   ]
  },
  {
   "cell_type": "markdown",
   "id": "a8bad3cf",
   "metadata": {},
   "source": [
    "---\n",
    "\n",
    "Now, let's turn to analyzing performance. A commonly used metric to evaluate the skill of a pitcher is to look at the batting average of the pitcher’s opponents. According to [Wikipedia](https://en.wikipedia.org/wiki/Batting_average_against),\n",
    "\n",
    "> In baseball statistics, batting average against (denoted by BAA or AVG), also known as opponents' batting average (denoted by OBA), is a statistic that measures a pitcher's ability to prevent hits during official at bats. It can alternatively be described as the league's hitters' combined batting average against the pitcher.\n",
    "\n",
    "The intuition is clear: if you are a pitcher, you do not want the batter actually to hit the ball. Thus, if you are a good pitcher, the opponent batter should miss a lot against you! Conveniently, this is already calculated on a yearly basis in our data.\n",
    "\n",
    "---"
   ]
  },
  {
   "cell_type": "markdown",
   "id": "e89c2cf1",
   "metadata": {},
   "source": [
    "**2.8 —** Considering data from all years, calculate the mean opponents' batting average for left- and right-handed pitchers. Run a t-test test to determine if this difference is statistically significant at the .05 level of significance. **Consider only pitchers in the years during which they have played atleast 5 games.** /Discuss:/ According to this approach, who are the better pitchers? Left-handed or right-handed pitchers?"
   ]
  },
  {
   "cell_type": "markdown",
   "id": "d4af00e9",
   "metadata": {},
   "source": [
    "# Task 3 (18 pts)\n",
    "\n",
    "Before you report your results to Mr. Russo, you decide to run them by your favorite Applied Data Analysis' TA, Ms. Sakota. She seems skeptical! According to her, you should take into account the time variable!"
   ]
  },
  {
   "cell_type": "markdown",
   "id": "8f845533",
   "metadata": {},
   "source": [
    "**3.1 —** Repeat the analysis from tasks 2.7 and 2.8 considering only data from the year 2000. That is, use a t-test to determine the distribution of salaries (2.7) and opponents' batting average (2.8) for all data of the year 2000 only. "
   ]
  },
  {
   "cell_type": "markdown",
   "id": "f31ef97f",
   "metadata": {},
   "source": [
    "**3.2 —** Create a single plot with 14 inches of width and 4 inches of height. The plot should contain three panels:\n",
    "- Panel A: The percentage of left-handed pitchers per year;\n",
    "- Panel B: The average salary of all pitchers per year\n",
    "- Panel C: The average opponents' batting average of all pitchers per year.\n",
    "\n",
    "Additionally, print, for the year 2007:\n",
    "- the percentage of left-handed pitchers.\n",
    "- the average salary.\n",
    "- the average  opponents' batting average."
   ]
  },
  {
   "cell_type": "markdown",
   "id": "388cc0f1",
   "metadata": {},
   "source": [
    "**3.3 —** Create a single plot with 10 inches of width and 4 inches of height. The plot should contain two panels: \n",
    "- Panel A: The average salary for left and right-handed pitchers per year, show 95% confidence intervals in your plot.\n",
    "- Panel B: The average opponents' batting average for left and right-handed pitchers across the years, show 95% confidence intervals in your plot.\n",
    "\n",
    "\n",
    "Additionally, print, for the year 1999:\n",
    "- the average salary of left-handed pitchers.\n",
    "- the average opponents' batting average of right-handed pitchers."
   ]
  },
  {
   "cell_type": "markdown",
   "id": "2e1df840",
   "metadata": {},
   "source": [
    "**3.4 —** /Discuss:/ Contrast the results obtained in Tasks 3.1 / 3.3 / 3.3 with the results obtained in Tasks 2.7 and 2.8. Are left-handed better than right-handed pitchers? Do they earn better salaries? Explain why the analysis might have reached different results."
   ]
  },
  {
   "cell_type": "markdown",
   "id": "8142c160",
   "metadata": {},
   "source": [
    "**3.5 —** Before showing the final results to Mr. Russo, you pass them by Ms. Sakota once more. She looks happier now, but still looks a bit concerned. She asks you to perform a sanity check on the missing data for the period you are considering. Specifically, she is worried that there are significantly more missing salaries for left-handed pitchers or for right-handed pitchers.\n",
    "\n",
    "- Create a plot with 10 inches of width and 4 inches of height. The plot should depict the fraction of missing salary  salary for left and right-handed pitchers per year, show 95% confidence intervals in your plot. \n",
    "- Print the fraction of left-handed pitchers with salary data missing for the year 2002. \n",
    "- /Discuss:/ According to the plot, are there significantly more missing salaries for left-handed pitchers?\n"
   ]
  },
  {
   "cell_type": "markdown",
   "id": "259f7dca",
   "metadata": {},
   "source": [
    "**3.6 –**  /Discuss:/ If 95% of the salaries of right-handed pitchers were missing and none for the left-handed pitchers, what problem could you envision could happen downstream when you analyzed the data?"
   ]
  }
 ],
 "metadata": {
  "kernelspec": {
   "display_name": "Python 3 (ipykernel)",
   "language": "python",
   "name": "python3"
  },
  "language_info": {
   "codemirror_mode": {
    "name": "ipython",
    "version": 3
   },
   "file_extension": ".py",
   "mimetype": "text/x-python",
   "name": "python",
   "nbconvert_exporter": "python",
   "pygments_lexer": "ipython3",
   "version": "3.11.4"
  }
 },
 "nbformat": 4,
 "nbformat_minor": 5
}
